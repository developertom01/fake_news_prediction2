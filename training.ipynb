{
 "cells": [
  {
   "cell_type": "code",
   "execution_count": 1,
   "id": "fb061778",
   "metadata": {},
   "outputs": [],
   "source": [
    "import numpy as np\n",
    "import sklearn\n",
    "import tensorflow as tf\n",
    "import pandas as pd"
   ]
  },
  {
   "cell_type": "code",
   "execution_count": 2,
   "id": "d8675d18",
   "metadata": {},
   "outputs": [],
   "source": [
    "TRAINING_DATA_PATH = \"./data/train.csv\"\n",
    "TESTING_DATA_PATH = \"./data/test.csv\""
   ]
  },
  {
   "cell_type": "code",
   "execution_count": 3,
   "id": "92ab3186",
   "metadata": {},
   "outputs": [
    {
     "data": {
      "text/html": [
       "<div>\n",
       "<style scoped>\n",
       "    .dataframe tbody tr th:only-of-type {\n",
       "        vertical-align: middle;\n",
       "    }\n",
       "\n",
       "    .dataframe tbody tr th {\n",
       "        vertical-align: top;\n",
       "    }\n",
       "\n",
       "    .dataframe thead th {\n",
       "        text-align: right;\n",
       "    }\n",
       "</style>\n",
       "<table border=\"1\" class=\"dataframe\">\n",
       "  <thead>\n",
       "    <tr style=\"text-align: right;\">\n",
       "      <th></th>\n",
       "      <th>id</th>\n",
       "      <th>title</th>\n",
       "      <th>author</th>\n",
       "      <th>text</th>\n",
       "      <th>label</th>\n",
       "    </tr>\n",
       "  </thead>\n",
       "  <tbody>\n",
       "    <tr>\n",
       "      <th>0</th>\n",
       "      <td>0</td>\n",
       "      <td>House Dem Aide: We Didn’t Even See Comey’s Let...</td>\n",
       "      <td>Darrell Lucus</td>\n",
       "      <td>House Dem Aide: We Didn’t Even See Comey’s Let...</td>\n",
       "      <td>1</td>\n",
       "    </tr>\n",
       "    <tr>\n",
       "      <th>1</th>\n",
       "      <td>1</td>\n",
       "      <td>FLYNN: Hillary Clinton, Big Woman on Campus - ...</td>\n",
       "      <td>Daniel J. Flynn</td>\n",
       "      <td>Ever get the feeling your life circles the rou...</td>\n",
       "      <td>0</td>\n",
       "    </tr>\n",
       "    <tr>\n",
       "      <th>2</th>\n",
       "      <td>2</td>\n",
       "      <td>Why the Truth Might Get You Fired</td>\n",
       "      <td>Consortiumnews.com</td>\n",
       "      <td>Why the Truth Might Get You Fired October 29, ...</td>\n",
       "      <td>1</td>\n",
       "    </tr>\n",
       "    <tr>\n",
       "      <th>3</th>\n",
       "      <td>3</td>\n",
       "      <td>15 Civilians Killed In Single US Airstrike Hav...</td>\n",
       "      <td>Jessica Purkiss</td>\n",
       "      <td>Videos 15 Civilians Killed In Single US Airstr...</td>\n",
       "      <td>1</td>\n",
       "    </tr>\n",
       "    <tr>\n",
       "      <th>4</th>\n",
       "      <td>4</td>\n",
       "      <td>Iranian woman jailed for fictional unpublished...</td>\n",
       "      <td>Howard Portnoy</td>\n",
       "      <td>Print \\nAn Iranian woman has been sentenced to...</td>\n",
       "      <td>1</td>\n",
       "    </tr>\n",
       "  </tbody>\n",
       "</table>\n",
       "</div>"
      ],
      "text/plain": [
       "   id                                              title              author  \\\n",
       "0   0  House Dem Aide: We Didn’t Even See Comey’s Let...       Darrell Lucus   \n",
       "1   1  FLYNN: Hillary Clinton, Big Woman on Campus - ...     Daniel J. Flynn   \n",
       "2   2                  Why the Truth Might Get You Fired  Consortiumnews.com   \n",
       "3   3  15 Civilians Killed In Single US Airstrike Hav...     Jessica Purkiss   \n",
       "4   4  Iranian woman jailed for fictional unpublished...      Howard Portnoy   \n",
       "\n",
       "                                                text  label  \n",
       "0  House Dem Aide: We Didn’t Even See Comey’s Let...      1  \n",
       "1  Ever get the feeling your life circles the rou...      0  \n",
       "2  Why the Truth Might Get You Fired October 29, ...      1  \n",
       "3  Videos 15 Civilians Killed In Single US Airstr...      1  \n",
       "4  Print \\nAn Iranian woman has been sentenced to...      1  "
      ]
     },
     "execution_count": 3,
     "metadata": {},
     "output_type": "execute_result"
    }
   ],
   "source": [
    "train_df = pd.read_csv(TRAINING_DATA_PATH)\n",
    "train_df.head()"
   ]
  },
  {
   "cell_type": "code",
   "execution_count": 4,
   "id": "c17f3cb1",
   "metadata": {},
   "outputs": [
    {
     "data": {
      "text/html": [
       "<div>\n",
       "<style scoped>\n",
       "    .dataframe tbody tr th:only-of-type {\n",
       "        vertical-align: middle;\n",
       "    }\n",
       "\n",
       "    .dataframe tbody tr th {\n",
       "        vertical-align: top;\n",
       "    }\n",
       "\n",
       "    .dataframe thead th {\n",
       "        text-align: right;\n",
       "    }\n",
       "</style>\n",
       "<table border=\"1\" class=\"dataframe\">\n",
       "  <thead>\n",
       "    <tr style=\"text-align: right;\">\n",
       "      <th></th>\n",
       "      <th>id</th>\n",
       "      <th>title</th>\n",
       "      <th>author</th>\n",
       "      <th>text</th>\n",
       "    </tr>\n",
       "  </thead>\n",
       "  <tbody>\n",
       "    <tr>\n",
       "      <th>0</th>\n",
       "      <td>20800</td>\n",
       "      <td>Specter of Trump Loosens Tongues, if Not Purse...</td>\n",
       "      <td>David Streitfeld</td>\n",
       "      <td>PALO ALTO, Calif.  —   After years of scorning...</td>\n",
       "    </tr>\n",
       "    <tr>\n",
       "      <th>1</th>\n",
       "      <td>20801</td>\n",
       "      <td>Russian warships ready to strike terrorists ne...</td>\n",
       "      <td>NaN</td>\n",
       "      <td>Russian warships ready to strike terrorists ne...</td>\n",
       "    </tr>\n",
       "    <tr>\n",
       "      <th>2</th>\n",
       "      <td>20802</td>\n",
       "      <td>#NoDAPL: Native American Leaders Vow to Stay A...</td>\n",
       "      <td>Common Dreams</td>\n",
       "      <td>Videos #NoDAPL: Native American Leaders Vow to...</td>\n",
       "    </tr>\n",
       "    <tr>\n",
       "      <th>3</th>\n",
       "      <td>20803</td>\n",
       "      <td>Tim Tebow Will Attempt Another Comeback, This ...</td>\n",
       "      <td>Daniel Victor</td>\n",
       "      <td>If at first you don’t succeed, try a different...</td>\n",
       "    </tr>\n",
       "    <tr>\n",
       "      <th>4</th>\n",
       "      <td>20804</td>\n",
       "      <td>Keiser Report: Meme Wars (E995)</td>\n",
       "      <td>Truth Broadcast Network</td>\n",
       "      <td>42 mins ago 1 Views 0 Comments 0 Likes 'For th...</td>\n",
       "    </tr>\n",
       "  </tbody>\n",
       "</table>\n",
       "</div>"
      ],
      "text/plain": [
       "      id                                              title  \\\n",
       "0  20800  Specter of Trump Loosens Tongues, if Not Purse...   \n",
       "1  20801  Russian warships ready to strike terrorists ne...   \n",
       "2  20802  #NoDAPL: Native American Leaders Vow to Stay A...   \n",
       "3  20803  Tim Tebow Will Attempt Another Comeback, This ...   \n",
       "4  20804                    Keiser Report: Meme Wars (E995)   \n",
       "\n",
       "                    author                                               text  \n",
       "0         David Streitfeld  PALO ALTO, Calif.  —   After years of scorning...  \n",
       "1                      NaN  Russian warships ready to strike terrorists ne...  \n",
       "2            Common Dreams  Videos #NoDAPL: Native American Leaders Vow to...  \n",
       "3            Daniel Victor  If at first you don’t succeed, try a different...  \n",
       "4  Truth Broadcast Network  42 mins ago 1 Views 0 Comments 0 Likes 'For th...  "
      ]
     },
     "execution_count": 4,
     "metadata": {},
     "output_type": "execute_result"
    }
   ],
   "source": [
    "test_df = pd.read_csv(TESTING_DATA_PATH)\n",
    "test_df.head()"
   ]
  },
  {
   "cell_type": "code",
   "execution_count": 5,
   "id": "5c7606b5",
   "metadata": {},
   "outputs": [
    {
     "data": {
      "text/html": [
       "<div>\n",
       "<style scoped>\n",
       "    .dataframe tbody tr th:only-of-type {\n",
       "        vertical-align: middle;\n",
       "    }\n",
       "\n",
       "    .dataframe tbody tr th {\n",
       "        vertical-align: top;\n",
       "    }\n",
       "\n",
       "    .dataframe thead th {\n",
       "        text-align: right;\n",
       "    }\n",
       "</style>\n",
       "<table border=\"1\" class=\"dataframe\">\n",
       "  <thead>\n",
       "    <tr style=\"text-align: right;\">\n",
       "      <th></th>\n",
       "      <th>id</th>\n",
       "      <th>title</th>\n",
       "      <th>author</th>\n",
       "      <th>text</th>\n",
       "      <th>label</th>\n",
       "    </tr>\n",
       "  </thead>\n",
       "  <tbody>\n",
       "    <tr>\n",
       "      <th>20795</th>\n",
       "      <td>20795</td>\n",
       "      <td>Rapper T.I.: Trump a ’Poster Child For White S...</td>\n",
       "      <td>Jerome Hudson</td>\n",
       "      <td>Rapper T. I. unloaded on black celebrities who...</td>\n",
       "      <td>0</td>\n",
       "    </tr>\n",
       "    <tr>\n",
       "      <th>20796</th>\n",
       "      <td>20796</td>\n",
       "      <td>N.F.L. Playoffs: Schedule, Matchups and Odds -...</td>\n",
       "      <td>Benjamin Hoffman</td>\n",
       "      <td>When the Green Bay Packers lost to the Washing...</td>\n",
       "      <td>0</td>\n",
       "    </tr>\n",
       "    <tr>\n",
       "      <th>20797</th>\n",
       "      <td>20797</td>\n",
       "      <td>Macy’s Is Said to Receive Takeover Approach by...</td>\n",
       "      <td>Michael J. de la Merced and Rachel Abrams</td>\n",
       "      <td>The Macy’s of today grew from the union of sev...</td>\n",
       "      <td>0</td>\n",
       "    </tr>\n",
       "    <tr>\n",
       "      <th>20798</th>\n",
       "      <td>20798</td>\n",
       "      <td>NATO, Russia To Hold Parallel Exercises In Bal...</td>\n",
       "      <td>Alex Ansary</td>\n",
       "      <td>NATO, Russia To Hold Parallel Exercises In Bal...</td>\n",
       "      <td>1</td>\n",
       "    </tr>\n",
       "    <tr>\n",
       "      <th>20799</th>\n",
       "      <td>20799</td>\n",
       "      <td>What Keeps the F-35 Alive</td>\n",
       "      <td>David Swanson</td>\n",
       "      <td>David Swanson is an author, activist, journa...</td>\n",
       "      <td>1</td>\n",
       "    </tr>\n",
       "  </tbody>\n",
       "</table>\n",
       "</div>"
      ],
      "text/plain": [
       "          id                                              title  \\\n",
       "20795  20795  Rapper T.I.: Trump a ’Poster Child For White S...   \n",
       "20796  20796  N.F.L. Playoffs: Schedule, Matchups and Odds -...   \n",
       "20797  20797  Macy’s Is Said to Receive Takeover Approach by...   \n",
       "20798  20798  NATO, Russia To Hold Parallel Exercises In Bal...   \n",
       "20799  20799                          What Keeps the F-35 Alive   \n",
       "\n",
       "                                          author  \\\n",
       "20795                              Jerome Hudson   \n",
       "20796                           Benjamin Hoffman   \n",
       "20797  Michael J. de la Merced and Rachel Abrams   \n",
       "20798                                Alex Ansary   \n",
       "20799                              David Swanson   \n",
       "\n",
       "                                                    text  label  \n",
       "20795  Rapper T. I. unloaded on black celebrities who...      0  \n",
       "20796  When the Green Bay Packers lost to the Washing...      0  \n",
       "20797  The Macy’s of today grew from the union of sev...      0  \n",
       "20798  NATO, Russia To Hold Parallel Exercises In Bal...      1  \n",
       "20799    David Swanson is an author, activist, journa...      1  "
      ]
     },
     "execution_count": 5,
     "metadata": {},
     "output_type": "execute_result"
    }
   ],
   "source": [
    "#COncatnate both dataframe and shuffle\n",
    "df = pd.concat([train_df,train_df])\n",
    "df.tail(5)"
   ]
  },
  {
   "cell_type": "code",
   "execution_count": 6,
   "id": "43d9fba4",
   "metadata": {},
   "outputs": [
    {
     "data": {
      "text/html": [
       "<div>\n",
       "<style scoped>\n",
       "    .dataframe tbody tr th:only-of-type {\n",
       "        vertical-align: middle;\n",
       "    }\n",
       "\n",
       "    .dataframe tbody tr th {\n",
       "        vertical-align: top;\n",
       "    }\n",
       "\n",
       "    .dataframe thead th {\n",
       "        text-align: right;\n",
       "    }\n",
       "</style>\n",
       "<table border=\"1\" class=\"dataframe\">\n",
       "  <thead>\n",
       "    <tr style=\"text-align: right;\">\n",
       "      <th></th>\n",
       "      <th>id</th>\n",
       "      <th>title</th>\n",
       "      <th>author</th>\n",
       "      <th>text</th>\n",
       "      <th>label</th>\n",
       "    </tr>\n",
       "  </thead>\n",
       "  <tbody>\n",
       "    <tr>\n",
       "      <th>3984</th>\n",
       "      <td>3984</td>\n",
       "      <td>Fifteen Quotes Proving False Flag Terrorism &amp; ...</td>\n",
       "      <td>stevew</td>\n",
       "      <td>ARJUN WALIA OCTOBER 18, 2016 Tensions between ...</td>\n",
       "      <td>1</td>\n",
       "    </tr>\n",
       "    <tr>\n",
       "      <th>18176</th>\n",
       "      <td>18176</td>\n",
       "      <td>Rigged Primary, Media, and Candidate; the Amer...</td>\n",
       "      <td>NaN</td>\n",
       "      <td>Email \\n\\nThe excitement over the US election ...</td>\n",
       "      <td>1</td>\n",
       "    </tr>\n",
       "    <tr>\n",
       "      <th>9739</th>\n",
       "      <td>9739</td>\n",
       "      <td>Trump: Hillary Clintons policy for Syria would...</td>\n",
       "      <td>Profusion</td>\n",
       "      <td>link She and Nutinbutayahoo have been wanting ...</td>\n",
       "      <td>1</td>\n",
       "    </tr>\n",
       "    <tr>\n",
       "      <th>10150</th>\n",
       "      <td>10150</td>\n",
       "      <td>Three Texas Border City Cops Shot, 1 Injured, ...</td>\n",
       "      <td>Bob Price</td>\n",
       "      <td>An armed murder suspect allegedly opened fire,...</td>\n",
       "      <td>0</td>\n",
       "    </tr>\n",
       "    <tr>\n",
       "      <th>1423</th>\n",
       "      <td>1423</td>\n",
       "      <td>NaN</td>\n",
       "      <td>curriec</td>\n",
       "      <td>In other words, in his first 100 days, Donald ...</td>\n",
       "      <td>1</td>\n",
       "    </tr>\n",
       "  </tbody>\n",
       "</table>\n",
       "</div>"
      ],
      "text/plain": [
       "          id                                              title     author  \\\n",
       "3984    3984  Fifteen Quotes Proving False Flag Terrorism & ...     stevew   \n",
       "18176  18176  Rigged Primary, Media, and Candidate; the Amer...        NaN   \n",
       "9739    9739  Trump: Hillary Clintons policy for Syria would...  Profusion   \n",
       "10150  10150  Three Texas Border City Cops Shot, 1 Injured, ...  Bob Price   \n",
       "1423    1423                                                NaN    curriec   \n",
       "\n",
       "                                                    text  label  \n",
       "3984   ARJUN WALIA OCTOBER 18, 2016 Tensions between ...      1  \n",
       "18176  Email \\n\\nThe excitement over the US election ...      1  \n",
       "9739   link She and Nutinbutayahoo have been wanting ...      1  \n",
       "10150  An armed murder suspect allegedly opened fire,...      0  \n",
       "1423   In other words, in his first 100 days, Donald ...      1  "
      ]
     },
     "execution_count": 6,
     "metadata": {},
     "output_type": "execute_result"
    }
   ],
   "source": [
    "from sklearn.utils import shuffle\n",
    "df = shuffle(df)\n",
    "df.head()"
   ]
  },
  {
   "cell_type": "code",
   "execution_count": 7,
   "id": "32cc192f",
   "metadata": {},
   "outputs": [
    {
     "data": {
      "text/plain": [
       "(41600, 4)"
      ]
     },
     "execution_count": 7,
     "metadata": {},
     "output_type": "execute_result"
    }
   ],
   "source": [
    "#Take away id\n",
    "df = df.drop('id',axis = 1)\n",
    "df.shape\n"
   ]
  },
  {
   "cell_type": "code",
   "execution_count": 8,
   "id": "39134c00",
   "metadata": {},
   "outputs": [],
   "source": [
    "df.title=df.title.astype(str)\n",
    "df.text=df.text.astype(str)\n",
    "df.author=df.author.astype(str)"
   ]
  },
  {
   "cell_type": "markdown",
   "id": "d0965151",
   "metadata": {},
   "source": [
    "* Labels are already in encoded format where 1 means real and 0 means fake\n",
    "\n",
    "* We then extract the labels from the dataframae as a numpy array\n"
   ]
  },
  {
   "cell_type": "code",
   "execution_count": 9,
   "id": "f7721d37",
   "metadata": {},
   "outputs": [
    {
     "name": "stdout",
     "output_type": "stream",
     "text": [
      "(41600,)\n"
     ]
    }
   ],
   "source": [
    "label = df['label'].values\n",
    "print(label.shape)"
   ]
  },
  {
   "cell_type": "markdown",
   "id": "04c6b903",
   "metadata": {},
   "source": [
    "- The rest are our x values for training\n",
    "- Let us extract them by droping the label column"
   ]
  },
  {
   "cell_type": "code",
   "execution_count": 10,
   "id": "eb19181b",
   "metadata": {},
   "outputs": [
    {
     "name": "stdout",
     "output_type": "stream",
     "text": [
      "(41600, 3)\n"
     ]
    }
   ],
   "source": [
    "data = df.drop('label',axis = 1)\n",
    "print(data.shape)"
   ]
  },
  {
   "cell_type": "markdown",
   "id": "17423c39",
   "metadata": {},
   "source": [
    "- Machine learning models prefere to be trained on numbers than strings.\n",
    "- To make it our news understandable, we will use the \"bag of words\" concept, where we extract about 400 common features from the data set.\n",
    "- We use the keras tokinizer to transform the words to it binary matrices."
   ]
  },
  {
   "cell_type": "code",
   "execution_count": 11,
   "id": "6c5aece5",
   "metadata": {},
   "outputs": [],
   "source": [
    "class TextProcessor(object):\n",
    "    def __init__(self,vocab_size):\n",
    "        self._vocab_size = vocab_size\n",
    "        self._tokenizer = None\n",
    "    def create_tokenizer(self,text_list):\n",
    "        tokenizer =  tf.keras.preprocessing.text.Tokenizer(num_words = self._vocab_size)\n",
    "        tokenizer.fit_on_texts(text_list)\n",
    "        self._tokenizer = tokenizer\n",
    "        \n",
    "    def transform_text(self,text_list):\n",
    "        tokinizer_matrix = self._tokenizer.texts_to_matrix(text_list)\n",
    "        return tokinizer_matrix"
   ]
  },
  {
   "cell_type": "markdown",
   "id": "40ece890",
   "metadata": {},
   "source": [
    "- It is neccessary to use a class so that u can save the object of it. Will be neccessay during model deployment\n",
    "\n",
    "- Now we create on object of our class and tranform text"
   ]
  },
  {
   "cell_type": "code",
   "execution_count": 12,
   "id": "ac1370bc",
   "metadata": {},
   "outputs": [],
   "source": [
    "pocessor = TextProcessor(400)"
   ]
  },
  {
   "cell_type": "markdown",
   "id": "70ebef7b",
   "metadata": {},
   "source": [
    "- We will combile all the words in the different columns together so that we can encode them together"
   ]
  },
  {
   "cell_type": "code",
   "execution_count": 13,
   "id": "4ea8e689",
   "metadata": {},
   "outputs": [
    {
     "data": {
      "text/plain": [
       "41600"
      ]
     },
     "execution_count": 13,
     "metadata": {},
     "output_type": "execute_result"
    }
   ],
   "source": [
    "all_sentences = list()\n",
    "for column in data.values:\n",
    "    for news in column:\n",
    "        all_sentences.append(news)\n",
    "len(data['author'].values)"
   ]
  },
  {
   "cell_type": "markdown",
   "id": "323c614d",
   "metadata": {},
   "source": [
    "- Now we go ahead and tranform our data into encoded bag of words\n",
    "- We will initialize the tokinizer with all the sentences we just created so that it will index all the words.\n",
    "- After that we will encode each feature seprately"
   ]
  },
  {
   "cell_type": "code",
   "execution_count": 14,
   "id": "cfbbd8f6",
   "metadata": {},
   "outputs": [],
   "source": [
    "pocessor.create_tokenizer(all_sentences)\n",
    "# title = np.array(pocessor.transform_text(data['title'].values))\n",
    "# body = np.array(pocessor.transform_text(data['text'].values))\n",
    "# author = np.array(pocessor.transform_text(data['author'].values))\n",
    "data2= [pocessor.transform_text(column) for column in data.values]"
   ]
  },
  {
   "cell_type": "code",
   "execution_count": 15,
   "id": "0c313554",
   "metadata": {},
   "outputs": [],
   "source": [
    "\n",
    "# data2 =  np.concatenate((title,body,author),axis=1)"
   ]
  },
  {
   "cell_type": "code",
   "execution_count": 16,
   "id": "2ddbb6e9",
   "metadata": {},
   "outputs": [
    {
     "data": {
      "text/plain": [
       "(41600, 3, 400)"
      ]
     },
     "execution_count": 16,
     "metadata": {},
     "output_type": "execute_result"
    }
   ],
   "source": [
    "data2 = np.array(data2)  \n",
    "data2.shape"
   ]
  },
  {
   "cell_type": "code",
   "execution_count": 17,
   "id": "a279edbb",
   "metadata": {},
   "outputs": [],
   "source": [
    "import pickle\n",
    "with open('./processor_state.pkl','wb') as f:\n",
    "    pickle.dump(pocessor,f)"
   ]
  },
  {
   "cell_type": "code",
   "execution_count": 18,
   "id": "7c0d871f",
   "metadata": {},
   "outputs": [],
   "source": [
    "train_size = int(len(df)*.8)\n",
    "train_labels = label[:train_size]\n",
    "test_labels = label[train_size:]\n",
    "data_train = data2[:train_size]\n",
    "data_test = data2[train_size:]"
   ]
  },
  {
   "cell_type": "code",
   "execution_count": 19,
   "id": "075218c1",
   "metadata": {},
   "outputs": [
    {
     "data": {
      "text/plain": [
       "(8320, 3, 400)"
      ]
     },
     "execution_count": 19,
     "metadata": {},
     "output_type": "execute_result"
    }
   ],
   "source": [
    "data_test.shape"
   ]
  },
  {
   "cell_type": "code",
   "execution_count": 20,
   "id": "2d6f756d",
   "metadata": {},
   "outputs": [
    {
     "name": "stdout",
     "output_type": "stream",
     "text": [
      "Model: \"sequential\"\n",
      "_________________________________________________________________\n",
      "Layer (type)                 Output Shape              Param #   \n",
      "=================================================================\n",
      "dense (Dense)                (None, 3, 128)            51328     \n",
      "_________________________________________________________________\n",
      "dense_1 (Dense)              (None, 3, 64)             8256      \n",
      "_________________________________________________________________\n",
      "dense_2 (Dense)              (None, 3, 1)              65        \n",
      "=================================================================\n",
      "Total params: 59,649\n",
      "Trainable params: 59,649\n",
      "Non-trainable params: 0\n",
      "_________________________________________________________________\n"
     ]
    }
   ],
   "source": [
    "from keras.models import Sequential\n",
    "from keras.layers import Flatten, Dense\n",
    "model = Sequential()\n",
    "model.add(Dense(128,input_shape = (3,400) ,activation='relu'))\n",
    "model.add(Dense(64, activation='relu'))\n",
    "model.add(Dense(1, activation='softmax'))\n",
    "model.compile(optimizer='adam',loss=\"binary_crossentropy\", metrics=['accuracy'])\n",
    "model.summary()"
   ]
  },
  {
   "cell_type": "code",
   "execution_count": 21,
   "id": "1f3dbe55",
   "metadata": {},
   "outputs": [
    {
     "name": "stdout",
     "output_type": "stream",
     "text": [
      "Epoch 1/100\n",
      "208/208 [==============================] - 1s 4ms/step - loss: 7.6138 - accuracy: 0.5007 - val_loss: 7.7369 - val_accuracy: 0.4926\n",
      "Epoch 2/100\n",
      "208/208 [==============================] - 0s 2ms/step - loss: 7.7029 - accuracy: 0.4949 - val_loss: 7.7369 - val_accuracy: 0.4926\n",
      "Epoch 3/100\n",
      "208/208 [==============================] - 1s 3ms/step - loss: 7.6050 - accuracy: 0.5013 - val_loss: 7.7369 - val_accuracy: 0.4926\n",
      "Epoch 4/100\n",
      "208/208 [==============================] - 1s 4ms/step - loss: 7.5696 - accuracy: 0.5036 - val_loss: 7.7369 - val_accuracy: 0.4926\n",
      "Epoch 5/100\n",
      "208/208 [==============================] - 1s 3ms/step - loss: 7.6527 - accuracy: 0.4982 - val_loss: 7.7369 - val_accuracy: 0.4926\n",
      "Epoch 6/100\n",
      "208/208 [==============================] - 1s 3ms/step - loss: 7.5835 - accuracy: 0.5027 - val_loss: 7.7369 - val_accuracy: 0.4926\n",
      "Epoch 7/100\n",
      "208/208 [==============================] - 1s 3ms/step - loss: 7.6199 - accuracy: 0.5003 - val_loss: 7.7369 - val_accuracy: 0.4926\n",
      "Epoch 8/100\n",
      "208/208 [==============================] - 1s 3ms/step - loss: 7.6881 - accuracy: 0.4958 - val_loss: 7.7369 - val_accuracy: 0.4926\n",
      "Epoch 9/100\n",
      "208/208 [==============================] - 1s 3ms/step - loss: 7.6730 - accuracy: 0.4968 - val_loss: 7.7369 - val_accuracy: 0.4926\n",
      "Epoch 10/100\n",
      "208/208 [==============================] - 1s 3ms/step - loss: 7.6100 - accuracy: 0.5010 - val_loss: 7.7369 - val_accuracy: 0.4926\n",
      "Epoch 11/100\n",
      "208/208 [==============================] - 1s 3ms/step - loss: 7.5862 - accuracy: 0.5025 - val_loss: 7.7369 - val_accuracy: 0.4926\n",
      "Epoch 12/100\n",
      "208/208 [==============================] - 1s 3ms/step - loss: 7.7520 - accuracy: 0.4916 - val_loss: 7.7369 - val_accuracy: 0.4926\n",
      "Epoch 13/100\n",
      "208/208 [==============================] - 1s 3ms/step - loss: 7.6674 - accuracy: 0.4972 - val_loss: 7.7369 - val_accuracy: 0.4926\n",
      "Epoch 14/100\n",
      "208/208 [==============================] - 1s 3ms/step - loss: 7.6743 - accuracy: 0.4967 - val_loss: 7.7369 - val_accuracy: 0.4926\n",
      "Epoch 15/100\n",
      "208/208 [==============================] - 1s 3ms/step - loss: 7.5839 - accuracy: 0.5027 - val_loss: 7.7369 - val_accuracy: 0.4926\n",
      "Epoch 16/100\n",
      "208/208 [==============================] - 1s 3ms/step - loss: 7.5840 - accuracy: 0.5027 - val_loss: 7.7369 - val_accuracy: 0.4926\n",
      "Epoch 17/100\n",
      "208/208 [==============================] - 1s 3ms/step - loss: 7.6748 - accuracy: 0.4967 - val_loss: 7.7369 - val_accuracy: 0.4926\n",
      "Epoch 18/100\n",
      "208/208 [==============================] - 1s 3ms/step - loss: 7.6947 - accuracy: 0.4954 - val_loss: 7.7369 - val_accuracy: 0.4926\n",
      "Epoch 19/100\n",
      "208/208 [==============================] - 1s 3ms/step - loss: 7.5217 - accuracy: 0.5068 - val_loss: 7.7369 - val_accuracy: 0.4926\n",
      "Epoch 20/100\n",
      "208/208 [==============================] - 1s 3ms/step - loss: 7.6138 - accuracy: 0.5007 - val_loss: 7.7369 - val_accuracy: 0.4926\n",
      "Epoch 21/100\n",
      "208/208 [==============================] - 1s 3ms/step - loss: 7.5784 - accuracy: 0.5030 - val_loss: 7.7369 - val_accuracy: 0.4926\n",
      "Epoch 22/100\n",
      "208/208 [==============================] - 1s 3ms/step - loss: 7.5768 - accuracy: 0.5031 - val_loss: 7.7369 - val_accuracy: 0.4926\n",
      "Epoch 23/100\n",
      "208/208 [==============================] - 1s 3ms/step - loss: 7.6233 - accuracy: 0.5001 - val_loss: 7.7369 - val_accuracy: 0.4926\n",
      "Epoch 24/100\n",
      "208/208 [==============================] - 1s 3ms/step - loss: 7.5730 - accuracy: 0.5034 - val_loss: 7.7369 - val_accuracy: 0.4926\n",
      "Epoch 25/100\n",
      "208/208 [==============================] - 1s 3ms/step - loss: 7.6875 - accuracy: 0.4959 - val_loss: 7.7369 - val_accuracy: 0.4926\n",
      "Epoch 26/100\n",
      "208/208 [==============================] - 1s 3ms/step - loss: 7.6031 - accuracy: 0.5014 - val_loss: 7.7369 - val_accuracy: 0.4926\n",
      "Epoch 27/100\n",
      "208/208 [==============================] - 1s 3ms/step - loss: 7.6027 - accuracy: 0.5014 - val_loss: 7.7369 - val_accuracy: 0.4926\n",
      "Epoch 28/100\n",
      "208/208 [==============================] - 1s 3ms/step - loss: 7.6106 - accuracy: 0.5009 - val_loss: 7.7369 - val_accuracy: 0.4926\n",
      "Epoch 29/100\n",
      "208/208 [==============================] - 1s 3ms/step - loss: 7.6542 - accuracy: 0.4981 - val_loss: 7.7369 - val_accuracy: 0.4926\n",
      "Epoch 30/100\n",
      "208/208 [==============================] - 1s 3ms/step - loss: 7.5986 - accuracy: 0.5017 - val_loss: 7.7369 - val_accuracy: 0.4926\n",
      "Epoch 31/100\n",
      "208/208 [==============================] - 1s 3ms/step - loss: 7.6264 - accuracy: 0.4999 - val_loss: 7.7369 - val_accuracy: 0.4926\n",
      "Epoch 32/100\n",
      "208/208 [==============================] - 1s 3ms/step - loss: 7.6135 - accuracy: 0.5007 - val_loss: 7.7369 - val_accuracy: 0.4926\n",
      "Epoch 33/100\n",
      "208/208 [==============================] - 1s 3ms/step - loss: 7.6998 - accuracy: 0.4951 - val_loss: 7.7369 - val_accuracy: 0.4926\n",
      "Epoch 34/100\n",
      "208/208 [==============================] - 1s 3ms/step - loss: 7.5997 - accuracy: 0.5016 - val_loss: 7.7369 - val_accuracy: 0.4926\n",
      "Epoch 35/100\n",
      "208/208 [==============================] - 1s 3ms/step - loss: 7.6639 - accuracy: 0.4974 - val_loss: 7.7369 - val_accuracy: 0.4926\n",
      "Epoch 36/100\n",
      "208/208 [==============================] - 1s 3ms/step - loss: 7.6032 - accuracy: 0.5014 - val_loss: 7.7369 - val_accuracy: 0.4926\n",
      "Epoch 37/100\n",
      "208/208 [==============================] - 1s 3ms/step - loss: 7.6209 - accuracy: 0.5002 - val_loss: 7.7369 - val_accuracy: 0.4926\n",
      "Epoch 38/100\n",
      "208/208 [==============================] - 1s 3ms/step - loss: 7.5153 - accuracy: 0.5072 - val_loss: 7.7369 - val_accuracy: 0.4926\n",
      "Epoch 39/100\n",
      "208/208 [==============================] - 1s 3ms/step - loss: 7.7103 - accuracy: 0.4944 - val_loss: 7.7369 - val_accuracy: 0.4926\n",
      "Epoch 40/100\n",
      "208/208 [==============================] - 1s 3ms/step - loss: 7.7146 - accuracy: 0.4941 - val_loss: 7.7369 - val_accuracy: 0.4926\n",
      "Epoch 41/100\n",
      "208/208 [==============================] - 1s 3ms/step - loss: 7.6471 - accuracy: 0.4985 - val_loss: 7.7369 - val_accuracy: 0.4926\n",
      "Epoch 42/100\n",
      "208/208 [==============================] - 1s 3ms/step - loss: 7.6906 - accuracy: 0.4957 - val_loss: 7.7369 - val_accuracy: 0.4926\n",
      "Epoch 43/100\n",
      "208/208 [==============================] - 1s 3ms/step - loss: 7.5873 - accuracy: 0.5024 - val_loss: 7.7369 - val_accuracy: 0.4926\n",
      "Epoch 44/100\n",
      "208/208 [==============================] - 1s 2ms/step - loss: 7.5221 - accuracy: 0.5067 - val_loss: 7.7369 - val_accuracy: 0.4926\n",
      "Epoch 45/100\n",
      "208/208 [==============================] - 1s 3ms/step - loss: 7.7104 - accuracy: 0.4944 - val_loss: 7.7369 - val_accuracy: 0.4926\n",
      "Epoch 46/100\n",
      "208/208 [==============================] - 1s 3ms/step - loss: 7.6157 - accuracy: 0.5006 - val_loss: 7.7369 - val_accuracy: 0.4926\n",
      "Epoch 47/100\n",
      "208/208 [==============================] - 1s 3ms/step - loss: 7.5876 - accuracy: 0.5024 - val_loss: 7.7369 - val_accuracy: 0.4926\n",
      "Epoch 48/100\n",
      "208/208 [==============================] - 0s 2ms/step - loss: 7.6593 - accuracy: 0.4977 - val_loss: 7.7369 - val_accuracy: 0.4926\n",
      "Epoch 49/100\n",
      "208/208 [==============================] - 1s 2ms/step - loss: 7.6431 - accuracy: 0.4988 - val_loss: 7.7369 - val_accuracy: 0.4926\n",
      "Epoch 50/100\n",
      "208/208 [==============================] - 1s 2ms/step - loss: 7.6648 - accuracy: 0.4974 - val_loss: 7.7369 - val_accuracy: 0.4926\n",
      "Epoch 51/100\n",
      "208/208 [==============================] - 1s 2ms/step - loss: 7.5569 - accuracy: 0.5044 - val_loss: 7.7369 - val_accuracy: 0.4926\n",
      "Epoch 52/100\n",
      "208/208 [==============================] - 1s 2ms/step - loss: 7.5944 - accuracy: 0.5020 - val_loss: 7.7369 - val_accuracy: 0.4926\n",
      "Epoch 53/100\n",
      "208/208 [==============================] - 0s 2ms/step - loss: 7.5695 - accuracy: 0.5036 - val_loss: 7.7369 - val_accuracy: 0.4926\n",
      "Epoch 54/100\n",
      "208/208 [==============================] - 0s 2ms/step - loss: 7.5862 - accuracy: 0.5025 - val_loss: 7.7369 - val_accuracy: 0.4926\n",
      "Epoch 55/100\n",
      "208/208 [==============================] - 1s 2ms/step - loss: 7.6158 - accuracy: 0.5006 - val_loss: 7.7369 - val_accuracy: 0.4926\n",
      "Epoch 56/100\n",
      "208/208 [==============================] - 1s 2ms/step - loss: 7.5811 - accuracy: 0.5029 - val_loss: 7.7369 - val_accuracy: 0.4926\n",
      "Epoch 57/100\n",
      "208/208 [==============================] - 1s 2ms/step - loss: 7.5816 - accuracy: 0.5028 - val_loss: 7.7369 - val_accuracy: 0.4926\n"
     ]
    },
    {
     "name": "stdout",
     "output_type": "stream",
     "text": [
      "Epoch 58/100\n",
      "208/208 [==============================] - 1s 2ms/step - loss: 7.6427 - accuracy: 0.4988 - val_loss: 7.7369 - val_accuracy: 0.4926\n",
      "Epoch 59/100\n",
      "208/208 [==============================] - 1s 2ms/step - loss: 7.6752 - accuracy: 0.4967 - val_loss: 7.7369 - val_accuracy: 0.4926\n",
      "Epoch 60/100\n",
      "208/208 [==============================] - 1s 2ms/step - loss: 7.6286 - accuracy: 0.4997 - val_loss: 7.7369 - val_accuracy: 0.4926\n",
      "Epoch 61/100\n",
      "208/208 [==============================] - 0s 2ms/step - loss: 7.5342 - accuracy: 0.5059 - val_loss: 7.7369 - val_accuracy: 0.4926\n",
      "Epoch 62/100\n",
      "208/208 [==============================] - 1s 2ms/step - loss: 7.6231 - accuracy: 0.5001 - val_loss: 7.7369 - val_accuracy: 0.4926\n",
      "Epoch 63/100\n",
      "208/208 [==============================] - 1s 3ms/step - loss: 7.6276 - accuracy: 0.4998 - val_loss: 7.7369 - val_accuracy: 0.4926\n",
      "Epoch 64/100\n",
      "208/208 [==============================] - 1s 3ms/step - loss: 7.7116 - accuracy: 0.4943 - val_loss: 7.7369 - val_accuracy: 0.4926\n",
      "Epoch 65/100\n",
      "208/208 [==============================] - 1s 3ms/step - loss: 7.6254 - accuracy: 0.5000 - val_loss: 7.7369 - val_accuracy: 0.4926\n",
      "Epoch 66/100\n",
      "208/208 [==============================] - 1s 3ms/step - loss: 7.6265 - accuracy: 0.4999 - val_loss: 7.7369 - val_accuracy: 0.4926\n",
      "Epoch 67/100\n",
      "208/208 [==============================] - 1s 3ms/step - loss: 7.5998 - accuracy: 0.5016 - val_loss: 7.7369 - val_accuracy: 0.4926\n",
      "Epoch 68/100\n",
      "208/208 [==============================] - 1s 3ms/step - loss: 7.5859 - accuracy: 0.5025 - val_loss: 7.7369 - val_accuracy: 0.4926\n",
      "Epoch 69/100\n",
      "208/208 [==============================] - 1s 3ms/step - loss: 7.6625 - accuracy: 0.4975 - val_loss: 7.7369 - val_accuracy: 0.4926\n",
      "Epoch 70/100\n",
      "208/208 [==============================] - 1s 3ms/step - loss: 7.6067 - accuracy: 0.5012 - val_loss: 7.7369 - val_accuracy: 0.4926\n",
      "Epoch 71/100\n",
      "208/208 [==============================] - 1s 2ms/step - loss: 7.5854 - accuracy: 0.5026 - val_loss: 7.7369 - val_accuracy: 0.4926\n",
      "Epoch 72/100\n",
      "208/208 [==============================] - 1s 3ms/step - loss: 7.6206 - accuracy: 0.5003 - val_loss: 7.7369 - val_accuracy: 0.4926\n",
      "Epoch 73/100\n",
      "208/208 [==============================] - 1s 3ms/step - loss: 7.5462 - accuracy: 0.5051 - val_loss: 7.7369 - val_accuracy: 0.4926\n",
      "Epoch 74/100\n",
      "208/208 [==============================] - 1s 3ms/step - loss: 7.6701 - accuracy: 0.4970 - val_loss: 7.7369 - val_accuracy: 0.4926\n",
      "Epoch 75/100\n",
      "208/208 [==============================] - 1s 3ms/step - loss: 7.6169 - accuracy: 0.5005 - val_loss: 7.7369 - val_accuracy: 0.4926\n",
      "Epoch 76/100\n",
      "208/208 [==============================] - 1s 3ms/step - loss: 7.5400 - accuracy: 0.5055 - val_loss: 7.7369 - val_accuracy: 0.4926\n",
      "Epoch 77/100\n",
      "208/208 [==============================] - 1s 3ms/step - loss: 7.6278 - accuracy: 0.4998 - val_loss: 7.7369 - val_accuracy: 0.4926\n",
      "Epoch 78/100\n",
      "208/208 [==============================] - 1s 3ms/step - loss: 7.6374 - accuracy: 0.4992 - val_loss: 7.7369 - val_accuracy: 0.4926\n",
      "Epoch 79/100\n",
      "208/208 [==============================] - 1s 3ms/step - loss: 7.5783 - accuracy: 0.5030 - val_loss: 7.7369 - val_accuracy: 0.4926\n",
      "Epoch 80/100\n",
      "208/208 [==============================] - 1s 3ms/step - loss: 7.6673 - accuracy: 0.4972 - val_loss: 7.7369 - val_accuracy: 0.4926\n",
      "Epoch 81/100\n",
      "208/208 [==============================] - 1s 3ms/step - loss: 7.6045 - accuracy: 0.5013 - val_loss: 7.7369 - val_accuracy: 0.4926\n",
      "Epoch 82/100\n",
      "208/208 [==============================] - 1s 3ms/step - loss: 7.5585 - accuracy: 0.5043 - val_loss: 7.7369 - val_accuracy: 0.4926\n",
      "Epoch 83/100\n",
      "208/208 [==============================] - 1s 2ms/step - loss: 7.6636 - accuracy: 0.4974 - val_loss: 7.7369 - val_accuracy: 0.4926\n",
      "Epoch 84/100\n",
      "208/208 [==============================] - 1s 3ms/step - loss: 7.6228 - accuracy: 0.5001 - val_loss: 7.7369 - val_accuracy: 0.4926\n",
      "Epoch 85/100\n",
      "208/208 [==============================] - 1s 2ms/step - loss: 7.5564 - accuracy: 0.5045 - val_loss: 7.7369 - val_accuracy: 0.4926\n",
      "Epoch 86/100\n",
      "208/208 [==============================] - 1s 2ms/step - loss: 7.7233 - accuracy: 0.4935 - val_loss: 7.7369 - val_accuracy: 0.4926\n",
      "Epoch 87/100\n",
      "208/208 [==============================] - 1s 3ms/step - loss: 7.6345 - accuracy: 0.4994 - val_loss: 7.7369 - val_accuracy: 0.4926\n",
      "Epoch 88/100\n",
      "208/208 [==============================] - 1s 3ms/step - loss: 7.7519 - accuracy: 0.4917 - val_loss: 7.7369 - val_accuracy: 0.4926\n",
      "Epoch 89/100\n",
      "208/208 [==============================] - 1s 3ms/step - loss: 7.7190 - accuracy: 0.4938 - val_loss: 7.7369 - val_accuracy: 0.4926\n",
      "Epoch 90/100\n",
      "208/208 [==============================] - 1s 3ms/step - loss: 7.5851 - accuracy: 0.5026 - val_loss: 7.7369 - val_accuracy: 0.4926\n",
      "Epoch 91/100\n",
      "208/208 [==============================] - 1s 3ms/step - loss: 7.6289 - accuracy: 0.4997 - val_loss: 7.7369 - val_accuracy: 0.4926\n",
      "Epoch 92/100\n",
      "208/208 [==============================] - 1s 3ms/step - loss: 7.5743 - accuracy: 0.5033 - val_loss: 7.7369 - val_accuracy: 0.4926\n",
      "Epoch 93/100\n",
      "208/208 [==============================] - 1s 3ms/step - loss: 7.6451 - accuracy: 0.4987 - val_loss: 7.7369 - val_accuracy: 0.4926\n",
      "Epoch 94/100\n",
      "208/208 [==============================] - 1s 3ms/step - loss: 7.6483 - accuracy: 0.4984 - val_loss: 7.7369 - val_accuracy: 0.4926\n",
      "Epoch 95/100\n",
      "208/208 [==============================] - 1s 3ms/step - loss: 7.6508 - accuracy: 0.4983 - val_loss: 7.7369 - val_accuracy: 0.4926\n",
      "Epoch 96/100\n",
      "208/208 [==============================] - 1s 3ms/step - loss: 7.6568 - accuracy: 0.4979 - val_loss: 7.7369 - val_accuracy: 0.4926\n",
      "Epoch 97/100\n",
      "208/208 [==============================] - 1s 3ms/step - loss: 7.6582 - accuracy: 0.4978 - val_loss: 7.7369 - val_accuracy: 0.4926\n",
      "Epoch 98/100\n",
      "208/208 [==============================] - 1s 3ms/step - loss: 7.6386 - accuracy: 0.4991 - val_loss: 7.7369 - val_accuracy: 0.4926\n",
      "Epoch 99/100\n",
      "208/208 [==============================] - 1s 3ms/step - loss: 7.6295 - accuracy: 0.4997 - val_loss: 7.7369 - val_accuracy: 0.4926\n",
      "Epoch 100/100\n",
      "208/208 [==============================] - 1s 3ms/step - loss: 7.6586 - accuracy: 0.4978 - val_loss: 7.7369 - val_accuracy: 0.4926\n"
     ]
    }
   ],
   "source": [
    "history = model.fit(data_train, train_labels,\n",
    "epochs=100,\n",
    "batch_size=128,\n",
    "validation_split=0.2)"
   ]
  },
  {
   "cell_type": "code",
   "execution_count": 22,
   "id": "a2a7d748",
   "metadata": {},
   "outputs": [
    {
     "data": {
      "image/png": "[encoded data removed]",
      "text/plain": [
       "<Figure size 432x288 with 1 Axes>"
      ]
     },
     "metadata": {
      "needs_background": "light"
     },
     "output_type": "display_data"
    },
    {
     "data": {
      "image/png": "[encoded data removed]",
      "text/plain": [
       "<Figure size 432x288 with 1 Axes>"
      ]
     },
     "metadata": {
      "needs_background": "light"
     },
     "output_type": "display_data"
    }
   ],
   "source": [
    "import matplotlib.pyplot as plt\n",
    "acc = history.history['accuracy']\n",
    "val_acc = history.history['val_accuracy']\n",
    "loss = history.history['loss']\n",
    "val_loss = history.history['val_loss']\n",
    "epochs = range(1, len(acc) + 1)\n",
    "plt.plot(epochs, acc, 'bo', label='Training acc')\n",
    "plt.plot(epochs, val_acc, 'b', label='Validation acc')\n",
    "plt.title('Training and validation accuracy')\n",
    "plt.legend()\n",
    "plt.figure()\n",
    "plt.plot(epochs, loss, 'bo', label='Training loss')\n",
    "plt.plot(epochs, val_loss, 'b', label='Validation loss')\n",
    "plt.title('Training and validation loss')\n",
    "plt.legend()\n",
    "plt.show()"
   ]
  },
  {
   "cell_type": "code",
   "execution_count": null,
   "id": "a9e9c1d5",
   "metadata": {},
   "outputs": [],
   "source": []
  }
 ],
 "metadata": {
  "kernelspec": {
   "display_name": "Python 3",
   "language": "python",
   "name": "python3"
  },
  "language_info": {
   "codemirror_mode": {
    "name": "ipython",
    "version": 3
   },
   "file_extension": ".py",
   "mimetype": "text/x-python",
   "name": "python",
   "nbconvert_exporter": "python",
   "pygments_lexer": "ipython3",
   "version": "3.8.5"
  }
 },
 "nbformat": 4,
 "nbformat_minor": 5
}
