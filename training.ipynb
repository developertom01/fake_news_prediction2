{
 "cells": [
  {
   "cell_type": "code",
   "execution_count": 2,
   "id": "fb061778",
   "metadata": {},
   "outputs": [],
   "source": [
    "import numpy as np\n",
    "import sklearn\n",
    "import tensorflow as tf\n",
    "import pandas as pd"
   ]
  },
  {
   "cell_type": "code",
   "execution_count": 3,
   "id": "d8675d18",
   "metadata": {},
   "outputs": [],
   "source": [
    "TRAINING_DATA_PATH = \"./data/train.csv\"\n",
    "TESTING_DATA_PATH = \"./data/test.csv\""
   ]
  },
  {
   "cell_type": "code",
   "execution_count": 4,
   "id": "92ab3186",
   "metadata": {},
   "outputs": [
    {
     "data": {
      "text/html": [
       "<div>\n",
       "<style scoped>\n",
       "    .dataframe tbody tr th:only-of-type {\n",
       "        vertical-align: middle;\n",
       "    }\n",
       "\n",
       "    .dataframe tbody tr th {\n",
       "        vertical-align: top;\n",
       "    }\n",
       "\n",
       "    .dataframe thead th {\n",
       "        text-align: right;\n",
       "    }\n",
       "</style>\n",
       "<table border=\"1\" class=\"dataframe\">\n",
       "  <thead>\n",
       "    <tr style=\"text-align: right;\">\n",
       "      <th></th>\n",
       "      <th>id</th>\n",
       "      <th>title</th>\n",
       "      <th>author</th>\n",
       "      <th>text</th>\n",
       "      <th>label</th>\n",
       "    </tr>\n",
       "  </thead>\n",
       "  <tbody>\n",
       "    <tr>\n",
       "      <th>0</th>\n",
       "      <td>0</td>\n",
       "      <td>House Dem Aide: We Didn’t Even See Comey’s Let...</td>\n",
       "      <td>Darrell Lucus</td>\n",
       "      <td>House Dem Aide: We Didn’t Even See Comey’s Let...</td>\n",
       "      <td>1</td>\n",
       "    </tr>\n",
       "    <tr>\n",
       "      <th>1</th>\n",
       "      <td>1</td>\n",
       "      <td>FLYNN: Hillary Clinton, Big Woman on Campus - ...</td>\n",
       "      <td>Daniel J. Flynn</td>\n",
       "      <td>Ever get the feeling your life circles the rou...</td>\n",
       "      <td>0</td>\n",
       "    </tr>\n",
       "    <tr>\n",
       "      <th>2</th>\n",
       "      <td>2</td>\n",
       "      <td>Why the Truth Might Get You Fired</td>\n",
       "      <td>Consortiumnews.com</td>\n",
       "      <td>Why the Truth Might Get You Fired October 29, ...</td>\n",
       "      <td>1</td>\n",
       "    </tr>\n",
       "    <tr>\n",
       "      <th>3</th>\n",
       "      <td>3</td>\n",
       "      <td>15 Civilians Killed In Single US Airstrike Hav...</td>\n",
       "      <td>Jessica Purkiss</td>\n",
       "      <td>Videos 15 Civilians Killed In Single US Airstr...</td>\n",
       "      <td>1</td>\n",
       "    </tr>\n",
       "    <tr>\n",
       "      <th>4</th>\n",
       "      <td>4</td>\n",
       "      <td>Iranian woman jailed for fictional unpublished...</td>\n",
       "      <td>Howard Portnoy</td>\n",
       "      <td>Print \\nAn Iranian woman has been sentenced to...</td>\n",
       "      <td>1</td>\n",
       "    </tr>\n",
       "  </tbody>\n",
       "</table>\n",
       "</div>"
      ],
      "text/plain": [
       "   id                                              title              author  \\\n",
       "0   0  House Dem Aide: We Didn’t Even See Comey’s Let...       Darrell Lucus   \n",
       "1   1  FLYNN: Hillary Clinton, Big Woman on Campus - ...     Daniel J. Flynn   \n",
       "2   2                  Why the Truth Might Get You Fired  Consortiumnews.com   \n",
       "3   3  15 Civilians Killed In Single US Airstrike Hav...     Jessica Purkiss   \n",
       "4   4  Iranian woman jailed for fictional unpublished...      Howard Portnoy   \n",
       "\n",
       "                                                text  label  \n",
       "0  House Dem Aide: We Didn’t Even See Comey’s Let...      1  \n",
       "1  Ever get the feeling your life circles the rou...      0  \n",
       "2  Why the Truth Might Get You Fired October 29, ...      1  \n",
       "3  Videos 15 Civilians Killed In Single US Airstr...      1  \n",
       "4  Print \\nAn Iranian woman has been sentenced to...      1  "
      ]
     },
     "execution_count": 4,
     "metadata": {},
     "output_type": "execute_result"
    }
   ],
   "source": [
    "train_df = pd.read_csv(TRAINING_DATA_PATH)\n",
    "train_df.head()"
   ]
  },
  {
   "cell_type": "code",
   "execution_count": 5,
   "id": "c17f3cb1",
   "metadata": {},
   "outputs": [
    {
     "data": {
      "text/html": [
       "<div>\n",
       "<style scoped>\n",
       "    .dataframe tbody tr th:only-of-type {\n",
       "        vertical-align: middle;\n",
       "    }\n",
       "\n",
       "    .dataframe tbody tr th {\n",
       "        vertical-align: top;\n",
       "    }\n",
       "\n",
       "    .dataframe thead th {\n",
       "        text-align: right;\n",
       "    }\n",
       "</style>\n",
       "<table border=\"1\" class=\"dataframe\">\n",
       "  <thead>\n",
       "    <tr style=\"text-align: right;\">\n",
       "      <th></th>\n",
       "      <th>id</th>\n",
       "      <th>title</th>\n",
       "      <th>author</th>\n",
       "      <th>text</th>\n",
       "    </tr>\n",
       "  </thead>\n",
       "  <tbody>\n",
       "    <tr>\n",
       "      <th>0</th>\n",
       "      <td>20800</td>\n",
       "      <td>Specter of Trump Loosens Tongues, if Not Purse...</td>\n",
       "      <td>David Streitfeld</td>\n",
       "      <td>PALO ALTO, Calif.  —   After years of scorning...</td>\n",
       "    </tr>\n",
       "    <tr>\n",
       "      <th>1</th>\n",
       "      <td>20801</td>\n",
       "      <td>Russian warships ready to strike terrorists ne...</td>\n",
       "      <td>NaN</td>\n",
       "      <td>Russian warships ready to strike terrorists ne...</td>\n",
       "    </tr>\n",
       "    <tr>\n",
       "      <th>2</th>\n",
       "      <td>20802</td>\n",
       "      <td>#NoDAPL: Native American Leaders Vow to Stay A...</td>\n",
       "      <td>Common Dreams</td>\n",
       "      <td>Videos #NoDAPL: Native American Leaders Vow to...</td>\n",
       "    </tr>\n",
       "    <tr>\n",
       "      <th>3</th>\n",
       "      <td>20803</td>\n",
       "      <td>Tim Tebow Will Attempt Another Comeback, This ...</td>\n",
       "      <td>Daniel Victor</td>\n",
       "      <td>If at first you don’t succeed, try a different...</td>\n",
       "    </tr>\n",
       "    <tr>\n",
       "      <th>4</th>\n",
       "      <td>20804</td>\n",
       "      <td>Keiser Report: Meme Wars (E995)</td>\n",
       "      <td>Truth Broadcast Network</td>\n",
       "      <td>42 mins ago 1 Views 0 Comments 0 Likes 'For th...</td>\n",
       "    </tr>\n",
       "  </tbody>\n",
       "</table>\n",
       "</div>"
      ],
      "text/plain": [
       "      id                                              title  \\\n",
       "0  20800  Specter of Trump Loosens Tongues, if Not Purse...   \n",
       "1  20801  Russian warships ready to strike terrorists ne...   \n",
       "2  20802  #NoDAPL: Native American Leaders Vow to Stay A...   \n",
       "3  20803  Tim Tebow Will Attempt Another Comeback, This ...   \n",
       "4  20804                    Keiser Report: Meme Wars (E995)   \n",
       "\n",
       "                    author                                               text  \n",
       "0         David Streitfeld  PALO ALTO, Calif.  —   After years of scorning...  \n",
       "1                      NaN  Russian warships ready to strike terrorists ne...  \n",
       "2            Common Dreams  Videos #NoDAPL: Native American Leaders Vow to...  \n",
       "3            Daniel Victor  If at first you don’t succeed, try a different...  \n",
       "4  Truth Broadcast Network  42 mins ago 1 Views 0 Comments 0 Likes 'For th...  "
      ]
     },
     "execution_count": 5,
     "metadata": {},
     "output_type": "execute_result"
    }
   ],
   "source": [
    "test_df = pd.read_csv(TESTING_DATA_PATH)\n",
    "test_df.head()"
   ]
  },
  {
   "cell_type": "code",
   "execution_count": 6,
   "id": "5c7606b5",
   "metadata": {},
   "outputs": [
    {
     "data": {
      "text/html": [
       "<div>\n",
       "<style scoped>\n",
       "    .dataframe tbody tr th:only-of-type {\n",
       "        vertical-align: middle;\n",
       "    }\n",
       "\n",
       "    .dataframe tbody tr th {\n",
       "        vertical-align: top;\n",
       "    }\n",
       "\n",
       "    .dataframe thead th {\n",
       "        text-align: right;\n",
       "    }\n",
       "</style>\n",
       "<table border=\"1\" class=\"dataframe\">\n",
       "  <thead>\n",
       "    <tr style=\"text-align: right;\">\n",
       "      <th></th>\n",
       "      <th>id</th>\n",
       "      <th>title</th>\n",
       "      <th>author</th>\n",
       "      <th>text</th>\n",
       "      <th>label</th>\n",
       "    </tr>\n",
       "  </thead>\n",
       "  <tbody>\n",
       "    <tr>\n",
       "      <th>20795</th>\n",
       "      <td>20795</td>\n",
       "      <td>Rapper T.I.: Trump a ’Poster Child For White S...</td>\n",
       "      <td>Jerome Hudson</td>\n",
       "      <td>Rapper T. I. unloaded on black celebrities who...</td>\n",
       "      <td>0</td>\n",
       "    </tr>\n",
       "    <tr>\n",
       "      <th>20796</th>\n",
       "      <td>20796</td>\n",
       "      <td>N.F.L. Playoffs: Schedule, Matchups and Odds -...</td>\n",
       "      <td>Benjamin Hoffman</td>\n",
       "      <td>When the Green Bay Packers lost to the Washing...</td>\n",
       "      <td>0</td>\n",
       "    </tr>\n",
       "    <tr>\n",
       "      <th>20797</th>\n",
       "      <td>20797</td>\n",
       "      <td>Macy’s Is Said to Receive Takeover Approach by...</td>\n",
       "      <td>Michael J. de la Merced and Rachel Abrams</td>\n",
       "      <td>The Macy’s of today grew from the union of sev...</td>\n",
       "      <td>0</td>\n",
       "    </tr>\n",
       "    <tr>\n",
       "      <th>20798</th>\n",
       "      <td>20798</td>\n",
       "      <td>NATO, Russia To Hold Parallel Exercises In Bal...</td>\n",
       "      <td>Alex Ansary</td>\n",
       "      <td>NATO, Russia To Hold Parallel Exercises In Bal...</td>\n",
       "      <td>1</td>\n",
       "    </tr>\n",
       "    <tr>\n",
       "      <th>20799</th>\n",
       "      <td>20799</td>\n",
       "      <td>What Keeps the F-35 Alive</td>\n",
       "      <td>David Swanson</td>\n",
       "      <td>David Swanson is an author, activist, journa...</td>\n",
       "      <td>1</td>\n",
       "    </tr>\n",
       "  </tbody>\n",
       "</table>\n",
       "</div>"
      ],
      "text/plain": [
       "          id                                              title  \\\n",
       "20795  20795  Rapper T.I.: Trump a ’Poster Child For White S...   \n",
       "20796  20796  N.F.L. Playoffs: Schedule, Matchups and Odds -...   \n",
       "20797  20797  Macy’s Is Said to Receive Takeover Approach by...   \n",
       "20798  20798  NATO, Russia To Hold Parallel Exercises In Bal...   \n",
       "20799  20799                          What Keeps the F-35 Alive   \n",
       "\n",
       "                                          author  \\\n",
       "20795                              Jerome Hudson   \n",
       "20796                           Benjamin Hoffman   \n",
       "20797  Michael J. de la Merced and Rachel Abrams   \n",
       "20798                                Alex Ansary   \n",
       "20799                              David Swanson   \n",
       "\n",
       "                                                    text  label  \n",
       "20795  Rapper T. I. unloaded on black celebrities who...      0  \n",
       "20796  When the Green Bay Packers lost to the Washing...      0  \n",
       "20797  The Macy’s of today grew from the union of sev...      0  \n",
       "20798  NATO, Russia To Hold Parallel Exercises In Bal...      1  \n",
       "20799    David Swanson is an author, activist, journa...      1  "
      ]
     },
     "execution_count": 6,
     "metadata": {},
     "output_type": "execute_result"
    }
   ],
   "source": [
    "#COncatnate both dataframe and shuffle\n",
    "df = pd.concat([train_df,train_df])\n",
    "df.tail(5)"
   ]
  },
  {
   "cell_type": "code",
   "execution_count": 7,
   "id": "43d9fba4",
   "metadata": {},
   "outputs": [
    {
     "data": {
      "text/html": [
       "<div>\n",
       "<style scoped>\n",
       "    .dataframe tbody tr th:only-of-type {\n",
       "        vertical-align: middle;\n",
       "    }\n",
       "\n",
       "    .dataframe tbody tr th {\n",
       "        vertical-align: top;\n",
       "    }\n",
       "\n",
       "    .dataframe thead th {\n",
       "        text-align: right;\n",
       "    }\n",
       "</style>\n",
       "<table border=\"1\" class=\"dataframe\">\n",
       "  <thead>\n",
       "    <tr style=\"text-align: right;\">\n",
       "      <th></th>\n",
       "      <th>id</th>\n",
       "      <th>title</th>\n",
       "      <th>author</th>\n",
       "      <th>text</th>\n",
       "      <th>label</th>\n",
       "    </tr>\n",
       "  </thead>\n",
       "  <tbody>\n",
       "    <tr>\n",
       "      <th>9923</th>\n",
       "      <td>9923</td>\n",
       "      <td>Young White Men 'Excited' to Ruin Country With...</td>\n",
       "      <td>NaN</td>\n",
       "      <td>Topics: Hillary Clinton , Donald Trump , 2016 ...</td>\n",
       "      <td>1</td>\n",
       "    </tr>\n",
       "    <tr>\n",
       "      <th>13580</th>\n",
       "      <td>13580</td>\n",
       "      <td>Russian Legislator: Russia Would Use Nuclear W...</td>\n",
       "      <td>John Hayward</td>\n",
       "      <td>Speaking at a security forum in Slovakia on Su...</td>\n",
       "      <td>0</td>\n",
       "    </tr>\n",
       "    <tr>\n",
       "      <th>15105</th>\n",
       "      <td>15105</td>\n",
       "      <td>Is This A New Escalation? BLACK Chemtrails Rep...</td>\n",
       "      <td>NaN</td>\n",
       "      <td>Is This A New Escalation? BLACK Chemtrails Rep...</td>\n",
       "      <td>1</td>\n",
       "    </tr>\n",
       "    <tr>\n",
       "      <th>3690</th>\n",
       "      <td>3690</td>\n",
       "      <td>Austin Schools Jump on ’Sanctuary’ Bandwagon</td>\n",
       "      <td>Merrill Hope</td>\n",
       "      <td>In a special session held Monday evening, Aust...</td>\n",
       "      <td>0</td>\n",
       "    </tr>\n",
       "    <tr>\n",
       "      <th>2607</th>\n",
       "      <td>2607</td>\n",
       "      <td>Russian analysis shows western-backed terroris...</td>\n",
       "      <td>Brandon Tuberville</td>\n",
       "      <td>Russian analysis shows western-backed terroris...</td>\n",
       "      <td>1</td>\n",
       "    </tr>\n",
       "  </tbody>\n",
       "</table>\n",
       "</div>"
      ],
      "text/plain": [
       "          id                                              title  \\\n",
       "9923    9923  Young White Men 'Excited' to Ruin Country With...   \n",
       "13580  13580  Russian Legislator: Russia Would Use Nuclear W...   \n",
       "15105  15105  Is This A New Escalation? BLACK Chemtrails Rep...   \n",
       "3690    3690       Austin Schools Jump on ’Sanctuary’ Bandwagon   \n",
       "2607    2607  Russian analysis shows western-backed terroris...   \n",
       "\n",
       "                   author                                               text  \\\n",
       "9923                  NaN  Topics: Hillary Clinton , Donald Trump , 2016 ...   \n",
       "13580        John Hayward  Speaking at a security forum in Slovakia on Su...   \n",
       "15105                 NaN  Is This A New Escalation? BLACK Chemtrails Rep...   \n",
       "3690         Merrill Hope  In a special session held Monday evening, Aust...   \n",
       "2607   Brandon Tuberville  Russian analysis shows western-backed terroris...   \n",
       "\n",
       "       label  \n",
       "9923       1  \n",
       "13580      0  \n",
       "15105      1  \n",
       "3690       0  \n",
       "2607       1  "
      ]
     },
     "execution_count": 7,
     "metadata": {},
     "output_type": "execute_result"
    }
   ],
   "source": [
    "from sklearn.utils import shuffle\n",
    "df = shuffle(df)\n",
    "df.head()"
   ]
  },
  {
   "cell_type": "code",
   "execution_count": 8,
   "id": "32cc192f",
   "metadata": {},
   "outputs": [
    {
     "data": {
      "text/plain": [
       "(41600, 4)"
      ]
     },
     "execution_count": 8,
     "metadata": {},
     "output_type": "execute_result"
    }
   ],
   "source": [
    "#Take away id\n",
    "df = df.drop('id',axis = 1)\n",
    "df.shape\n"
   ]
  },
  {
   "cell_type": "code",
   "execution_count": 30,
   "id": "39134c00",
   "metadata": {},
   "outputs": [
    {
     "data": {
      "text/html": [
       "<div>\n",
       "<style scoped>\n",
       "    .dataframe tbody tr th:only-of-type {\n",
       "        vertical-align: middle;\n",
       "    }\n",
       "\n",
       "    .dataframe tbody tr th {\n",
       "        vertical-align: top;\n",
       "    }\n",
       "\n",
       "    .dataframe thead th {\n",
       "        text-align: right;\n",
       "    }\n",
       "</style>\n",
       "<table border=\"1\" class=\"dataframe\">\n",
       "  <thead>\n",
       "    <tr style=\"text-align: right;\">\n",
       "      <th></th>\n",
       "      <th>title</th>\n",
       "      <th>author</th>\n",
       "      <th>text</th>\n",
       "      <th>label</th>\n",
       "    </tr>\n",
       "  </thead>\n",
       "  <tbody>\n",
       "    <tr>\n",
       "      <th>9923</th>\n",
       "      <td>Young White Men 'Excited' to Ruin Country With...</td>\n",
       "      <td>nan</td>\n",
       "      <td>Topics: Hillary Clinton , Donald Trump , 2016 ...</td>\n",
       "      <td>1</td>\n",
       "    </tr>\n",
       "    <tr>\n",
       "      <th>13580</th>\n",
       "      <td>Russian Legislator: Russia Would Use Nuclear W...</td>\n",
       "      <td>John Hayward</td>\n",
       "      <td>Speaking at a security forum in Slovakia on Su...</td>\n",
       "      <td>0</td>\n",
       "    </tr>\n",
       "    <tr>\n",
       "      <th>15105</th>\n",
       "      <td>Is This A New Escalation? BLACK Chemtrails Rep...</td>\n",
       "      <td>nan</td>\n",
       "      <td>Is This A New Escalation? BLACK Chemtrails Rep...</td>\n",
       "      <td>1</td>\n",
       "    </tr>\n",
       "    <tr>\n",
       "      <th>3690</th>\n",
       "      <td>Austin Schools Jump on ’Sanctuary’ Bandwagon</td>\n",
       "      <td>Merrill Hope</td>\n",
       "      <td>In a special session held Monday evening, Aust...</td>\n",
       "      <td>0</td>\n",
       "    </tr>\n",
       "    <tr>\n",
       "      <th>2607</th>\n",
       "      <td>Russian analysis shows western-backed terroris...</td>\n",
       "      <td>Brandon Tuberville</td>\n",
       "      <td>Russian analysis shows western-backed terroris...</td>\n",
       "      <td>1</td>\n",
       "    </tr>\n",
       "  </tbody>\n",
       "</table>\n",
       "</div>"
      ],
      "text/plain": [
       "                                                   title              author  \\\n",
       "9923   Young White Men 'Excited' to Ruin Country With...                 nan   \n",
       "13580  Russian Legislator: Russia Would Use Nuclear W...        John Hayward   \n",
       "15105  Is This A New Escalation? BLACK Chemtrails Rep...                 nan   \n",
       "3690        Austin Schools Jump on ’Sanctuary’ Bandwagon        Merrill Hope   \n",
       "2607   Russian analysis shows western-backed terroris...  Brandon Tuberville   \n",
       "\n",
       "                                                    text  label  \n",
       "9923   Topics: Hillary Clinton , Donald Trump , 2016 ...      1  \n",
       "13580  Speaking at a security forum in Slovakia on Su...      0  \n",
       "15105  Is This A New Escalation? BLACK Chemtrails Rep...      1  \n",
       "3690   In a special session held Monday evening, Aust...      0  \n",
       "2607   Russian analysis shows western-backed terroris...      1  "
      ]
     },
     "execution_count": 30,
     "metadata": {},
     "output_type": "execute_result"
    }
   ],
   "source": [
    "df.title=df.title.astype(str)\n",
    "df.text=df.text.astype(str)\n",
    "df.head(5)"
   ]
  },
  {
   "cell_type": "markdown",
   "id": "d0965151",
   "metadata": {},
   "source": [
    "* Labels are already in encoded format where 1 means real and 0 means fake\n",
    "\n",
    "* We then extract the labels from the dataframae as a numpy array\n"
   ]
  },
  {
   "cell_type": "code",
   "execution_count": 41,
   "id": "f7721d37",
   "metadata": {},
   "outputs": [
    {
     "name": "stdout",
     "output_type": "stream",
     "text": [
      "(41600,)\n"
     ]
    }
   ],
   "source": [
    "label = df['label'].values.astype(str)\n",
    "print(label.shape)"
   ]
  },
  {
   "cell_type": "markdown",
   "id": "04c6b903",
   "metadata": {},
   "source": [
    "- The rest are our x values for training\n",
    "- Let us extract them by droping the label column"
   ]
  },
  {
   "cell_type": "code",
   "execution_count": 42,
   "id": "cf7d5bd4",
   "metadata": {},
   "outputs": [],
   "source": [
    "from sklearn import preprocessing\n",
    "def label_encode_binary(labels):\n",
    "    binirizer = preprocessing.MultiLabelBinarizer()\n",
    "    return (binirizer.fit_transform(labels),binirizer.classes_)"
   ]
  },
  {
   "cell_type": "code",
   "execution_count": 121,
   "id": "227ad15f",
   "metadata": {},
   "outputs": [
    {
     "data": {
      "text/plain": [
       "(41600, 2)"
      ]
     },
     "execution_count": 121,
     "metadata": {},
     "output_type": "execute_result"
    }
   ],
   "source": [
    "encoded_label,classes = label_encode_binary(label)\n",
    "encoded_label.shape"
   ]
  },
  {
   "cell_type": "code",
   "execution_count": 122,
   "id": "3f58d324",
   "metadata": {},
   "outputs": [
    {
     "name": "stdout",
     "output_type": "stream",
     "text": [
      "(41600,)\n"
     ]
    }
   ],
   "source": [
    "print(label.shape)"
   ]
  },
  {
   "cell_type": "code",
   "execution_count": 119,
   "id": "eb19181b",
   "metadata": {},
   "outputs": [
    {
     "name": "stdout",
     "output_type": "stream",
     "text": [
      "(41600, 2)\n"
     ]
    }
   ],
   "source": [
    "data = df.drop('label',axis = 1).drop('author',axis = 1)\n",
    "print(data.shape)"
   ]
  },
  {
   "cell_type": "markdown",
   "id": "17423c39",
   "metadata": {},
   "source": [
    "- Machine learning models prefere to be trained on numbers than strings.\n",
    "- To make it our news understandable, we will use the \"bag of words\" concept, where we extract about 400 common features from the data set.\n",
    "- We use the keras tokinizer to transform the words to it binary matrices."
   ]
  },
  {
   "cell_type": "code",
   "execution_count": 79,
   "id": "6c5aece5",
   "metadata": {},
   "outputs": [],
   "source": [
    "class TextProcessor(object):\n",
    "    def __init__(self,vocab_size):\n",
    "        self._vocab_size = vocab_size\n",
    "        self._tokenizer = None\n",
    "    def create_tokenizer(self,text_list):\n",
    "        tokenizer =  tf.keras.preprocessing.text.Tokenizer(num_words = self._vocab_size)\n",
    "        tokenizer.fit_on_texts(text_list)\n",
    "        self._tokenizer = tokenizer\n",
    "        \n",
    "    def transform_text(self,text_list):\n",
    "        tokinizer_matrix = self._tokenizer.texts_to_matrix(text_list)\n",
    "        return tokinizer_matrix"
   ]
  },
  {
   "cell_type": "markdown",
   "id": "40ece890",
   "metadata": {},
   "source": [
    "- It is neccessary to use a class so that u can save the object of it. Will be neccessay during model deployment\n",
    "\n",
    "- Now we create on object of our class and tranform text"
   ]
  },
  {
   "cell_type": "code",
   "execution_count": 80,
   "id": "ac1370bc",
   "metadata": {},
   "outputs": [],
   "source": [
    "pocessor = TextProcessor(200)"
   ]
  },
  {
   "cell_type": "markdown",
   "id": "70ebef7b",
   "metadata": {},
   "source": [
    "- We will combile all the words in the different columns together so that we can encode them together"
   ]
  },
  {
   "cell_type": "code",
   "execution_count": 81,
   "id": "4ea8e689",
   "metadata": {},
   "outputs": [
    {
     "data": {
      "text/plain": [
       "41600"
      ]
     },
     "execution_count": 81,
     "metadata": {},
     "output_type": "execute_result"
    }
   ],
   "source": [
    "all_sentences = list()\n",
    "for column in data.values:\n",
    "    for news in column:\n",
    "        all_sentences.append(news)\n",
    "len(data['title'].values)"
   ]
  },
  {
   "cell_type": "code",
   "execution_count": 172,
   "id": "f7dbaf99",
   "metadata": {},
   "outputs": [
    {
     "name": "stdout",
     "output_type": "stream",
     "text": [
      "(41600,) (41600,) (83200,)\n"
     ]
    }
   ],
   "source": [
    "# # texts_per_row = list()\n",
    "# # for column in data.values:\n",
    "# #     texts_per_row.append(f\"{column[0]} {column[1]} \")    \n",
    "    \n",
    "\n",
    "# # len(texts_per_row[0])\n",
    "# # np.array(texts_per_row)\n",
    "# myt = data.text.values\n",
    "# myx = data.title.values\n",
    "# d = np.concatenate((myt,myx))\n",
    "# print(myx.shape,myt.shape,d.shape)"
   ]
  },
  {
   "cell_type": "markdown",
   "id": "323c614d",
   "metadata": {},
   "source": [
    "- Now we go ahead and tranform our data into encoded bag of words\n",
    "- We will initialize the tokinizer with all the sentences we just created so that it will index all the words.\n",
    "- After that we will encode each feature seprately"
   ]
  },
  {
   "cell_type": "code",
   "execution_count": 175,
   "id": "cfbbd8f6",
   "metadata": {},
   "outputs": [],
   "source": [
    "pocessor.create_tokenizer(all_sentences)\n",
    "# data2= [pocessor.transform_text(column) for column in data.values]\n",
    "title = pocessor.transform_text(data.title.values)\n",
    "text = pocessor.transform_text(data.text.values)"
   ]
  },
  {
   "cell_type": "code",
   "execution_count": 180,
   "id": "9de4f9dd",
   "metadata": {},
   "outputs": [],
   "source": [
    "data_words = np.concatenate((title,text),axis = 1)"
   ]
  },
  {
   "cell_type": "code",
   "execution_count": 181,
   "id": "2ddbb6e9",
   "metadata": {},
   "outputs": [
    {
     "data": {
      "text/plain": [
       "(41600, 400)"
      ]
     },
     "execution_count": 181,
     "metadata": {},
     "output_type": "execute_result"
    }
   ],
   "source": [
    "# data2 = np.array(data2)  \n",
    "data_words.shape"
   ]
  },
  {
   "cell_type": "code",
   "execution_count": 182,
   "id": "a279edbb",
   "metadata": {},
   "outputs": [],
   "source": [
    "import pickle\n",
    "with open('./processor_state.pkl','wb') as f:\n",
    "    pickle.dump(pocessor,f)"
   ]
  },
  {
   "cell_type": "code",
   "execution_count": 183,
   "id": "7c0d871f",
   "metadata": {},
   "outputs": [],
   "source": [
    "train_size = int(len(df)*.8)\n",
    "train_labels = encoded_label[:train_size]\n",
    "test_labels = encoded_label[train_size:]\n",
    "data_train = data_words[:train_size]\n",
    "data_test = data_words[train_size:]"
   ]
  },
  {
   "cell_type": "code",
   "execution_count": 184,
   "id": "075218c1",
   "metadata": {},
   "outputs": [
    {
     "data": {
      "text/plain": [
       "(33280, 2)"
      ]
     },
     "execution_count": 184,
     "metadata": {},
     "output_type": "execute_result"
    }
   ],
   "source": [
    "train_labels.shape"
   ]
  },
  {
   "cell_type": "code",
   "execution_count": 191,
   "id": "2d6f756d",
   "metadata": {},
   "outputs": [
    {
     "name": "stdout",
     "output_type": "stream",
     "text": [
      "Model: \"sequential_13\"\n",
      "_________________________________________________________________\n",
      "Layer (type)                 Output Shape              Param #   \n",
      "=================================================================\n",
      "dense_37 (Dense)             (None, 128)               51328     \n",
      "_________________________________________________________________\n",
      "dense_38 (Dense)             (None, 64)                8256      \n",
      "_________________________________________________________________\n",
      "dense_39 (Dense)             (None, 2)                 130       \n",
      "=================================================================\n",
      "Total params: 59,714\n",
      "Trainable params: 59,714\n",
      "Non-trainable params: 0\n",
      "_________________________________________________________________\n"
     ]
    }
   ],
   "source": [
    "from keras.models import Sequential\n",
    "from keras.layers import Flatten, Dense\n",
    "model = Sequential()\n",
    "model.add(Dense(128,input_shape = (400,) ,activation='relu'))\n",
    "model.add(Dense(64, activation='relu'))\n",
    "model.add(Dense(2, activation='softmax'))\n",
    "model.compile(optimizer='adam',loss=\"binary_crossentropy\", metrics=['accuracy'])\n",
    "model.summary()"
   ]
  },
  {
   "cell_type": "code",
   "execution_count": 192,
   "id": "1f3dbe55",
   "metadata": {},
   "outputs": [
    {
     "name": "stdout",
     "output_type": "stream",
     "text": [
      "Epoch 1/5\n",
      "208/208 [==============================] - 1s 2ms/step - loss: 0.3661 - accuracy: 0.8324 - val_loss: 0.1387 - val_accuracy: 0.9449\n",
      "Epoch 2/5\n",
      "208/208 [==============================] - 0s 1ms/step - loss: 0.1269 - accuracy: 0.9499 - val_loss: 0.1211 - val_accuracy: 0.9501\n",
      "Epoch 3/5\n",
      "208/208 [==============================] - 1s 2ms/step - loss: 0.0984 - accuracy: 0.9611 - val_loss: 0.1036 - val_accuracy: 0.9585\n",
      "Epoch 4/5\n",
      "208/208 [==============================] - 0s 2ms/step - loss: 0.0765 - accuracy: 0.9727 - val_loss: 0.0986 - val_accuracy: 0.9615\n",
      "Epoch 5/5\n",
      "208/208 [==============================] - 0s 1ms/step - loss: 0.0491 - accuracy: 0.9834 - val_loss: 0.0947 - val_accuracy: 0.9645\n"
     ]
    }
   ],
   "source": [
    "history = model.fit(data_train, train_labels,\n",
    "epochs=5,\n",
    "batch_size=128,\n",
    "validation_split=0.2)"
   ]
  },
  {
   "cell_type": "code",
   "execution_count": 193,
   "id": "a2a7d748",
   "metadata": {},
   "outputs": [
    {
     "data": {
      "image/png": "[encoded data removed]",
      "text/plain": [
       "<Figure size 432x288 with 1 Axes>"
      ]
     },
     "metadata": {
      "needs_background": "light"
     },
     "output_type": "display_data"
    },
    {
     "data": {
      "image/png": "[encoded data removed]",
      "text/plain": [
       "<Figure size 432x288 with 1 Axes>"
      ]
     },
     "metadata": {
      "needs_background": "light"
     },
     "output_type": "display_data"
    }
   ],
   "source": [
    "import matplotlib.pyplot as plt\n",
    "acc = history.history['accuracy']\n",
    "val_acc = history.history['val_accuracy']\n",
    "loss = history.history['loss']\n",
    "val_loss = history.history['val_loss']\n",
    "epochs = range(1, len(acc) + 1)\n",
    "plt.plot(epochs, acc, 'bo', label='Training acc')\n",
    "plt.plot(epochs, val_acc, 'b', label='Validation acc')\n",
    "plt.title('Training and validation accuracy')\n",
    "plt.legend()\n",
    "plt.figure()\n",
    "plt.plot(epochs, loss, 'bo', label='Training loss')\n",
    "plt.plot(epochs, val_loss, 'b', label='Validation loss')\n",
    "plt.title('Training and validation loss')\n",
    "plt.legend()\n",
    "plt.show()"
   ]
  },
  {
   "cell_type": "code",
   "execution_count": 194,
   "id": "a9e9c1d5",
   "metadata": {},
   "outputs": [
    {
     "name": "stdout",
     "output_type": "stream",
     "text": [
      "65/65 [==============================] - 0s 1ms/step - loss: 0.1051 - accuracy: 0.9615\n"
     ]
    },
    {
     "data": {
      "text/plain": [
       "[0.1051003485918045, 0.9615384340286255]"
      ]
     },
     "execution_count": 194,
     "metadata": {},
     "output_type": "execute_result"
    }
   ],
   "source": [
    "model.evaluate(data_test,test_labels,batch_size=128)"
   ]
  },
  {
   "cell_type": "code",
   "execution_count": 195,
   "id": "44aa2eb7",
   "metadata": {},
   "outputs": [
    {
     "name": "stdout",
     "output_type": "stream",
     "text": [
      "export_path = ./model/1\n",
      "\n"
     ]
    }
   ],
   "source": [
    "import os\n",
    "import tempfile\n",
    "\n",
    "MODEL_DIR = './model'\n",
    "version = 1\n",
    "export_path = os.path.join(MODEL_DIR, str(version))\n",
    "print('export_path = {}\\n'.format(export_path))"
   ]
  },
  {
   "cell_type": "code",
   "execution_count": 196,
   "id": "fb7ad5b7",
   "metadata": {},
   "outputs": [
    {
     "name": "stdout",
     "output_type": "stream",
     "text": [
      "INFO:tensorflow:Assets written to: ./model/1/assets\n"
     ]
    }
   ],
   "source": [
    "tf.keras.models.save_model(\n",
    "    model,\n",
    "    export_path,\n",
    "    overwrite=True,\n",
    "    include_optimizer=True,\n",
    "    save_format=None,\n",
    "    signatures=None,\n",
    "    options=None\n",
    ")"
   ]
  },
  {
   "cell_type": "code",
   "execution_count": 197,
   "id": "a988913e",
   "metadata": {},
   "outputs": [],
   "source": [
    "predictions = model.predict(data_test[2:3])"
   ]
  },
  {
   "cell_type": "code",
   "execution_count": 201,
   "id": "8e965b7c",
   "metadata": {},
   "outputs": [
    {
     "name": "stdout",
     "output_type": "stream",
     "text": [
      "1\n"
     ]
    }
   ],
   "source": [
    "print(np.argmax(predictions))"
   ]
  },
  {
   "cell_type": "code",
   "execution_count": 202,
   "id": "234287f8",
   "metadata": {},
   "outputs": [],
   "source": [
    "class DecodePrediction(object):\n",
    "    def __init__(self,label_class):\n",
    "        self._label_class = label_class\n",
    "    \n",
    "    def decode_prediction(self,prediction):\n",
    "        decoded = []\n",
    "        for predicted in prediction:\n",
    "            gratest_index = np.argmax(predicted)\n",
    "            decoded.append(self._label_class[gratest_index]) \n",
    "        return decoded"
   ]
  },
  {
   "cell_type": "code",
   "execution_count": 203,
   "id": "fb79cd0c",
   "metadata": {},
   "outputs": [],
   "source": [
    "decode_prediction = DecodePrediction(classes)"
   ]
  },
  {
   "cell_type": "code",
   "execution_count": 204,
   "id": "fde453fc",
   "metadata": {},
   "outputs": [
    {
     "data": {
      "text/plain": [
       "['1']"
      ]
     },
     "execution_count": 204,
     "metadata": {},
     "output_type": "execute_result"
    }
   ],
   "source": [
    "decode_prediction.decode_prediction(predictions)"
   ]
  },
  {
   "cell_type": "code",
   "execution_count": 206,
   "id": "ee905b4f",
   "metadata": {},
   "outputs": [
    {
     "name": "stderr",
     "output_type": "stream",
     "text": [
      "keras is no longer supported, please use tf.keras instead.\n",
      "Your TensorFlow version is newer than 2.4.0 and so graph support has been removed in eager mode. See PR #1483 for discussion.\n",
      "`tf.keras.backend.set_learning_phase` is deprecated and will be removed after 2020-10-11. To update it, simply pass a True/False value to the `training` argument of the `__call__` method of your layer or model.\n"
     ]
    }
   ],
   "source": [
    "import shap\n",
    "\n",
    "explainer = shap.DeepExplainer(model,data_train[:200])\n",
    "sharp_vals = explainer.shap_values(data_test[:25])"
   ]
  },
  {
   "cell_type": "code",
   "execution_count": 208,
   "id": "7c49948e",
   "metadata": {},
   "outputs": [],
   "source": [
    "words  = pocessor._tokenizer.word_index\n",
    "\n",
    "word_lookup = [i for i in words.keys() ]\n",
    "word_lookup = [\"\"] + word_lookup\n"
   ]
  },
  {
   "cell_type": "code",
   "execution_count": 209,
   "id": "44df8291",
   "metadata": {},
   "outputs": [
    {
     "data": {
      "image/png": "[encoded data removed]",
      "text/plain": [
       "<Figure size 576x684 with 1 Axes>"
      ]
     },
     "metadata": {
      "needs_background": "light"
     },
     "output_type": "display_data"
    }
   ],
   "source": [
    "shap.summary_plot(sharp_vals,feature_names = word_lookup,class_names =classes)"
   ]
  },
  {
   "cell_type": "code",
   "execution_count": null,
   "id": "1c1b5baa",
   "metadata": {},
   "outputs": [],
   "source": []
  }
 ],
 "metadata": {
  "kernelspec": {
   "display_name": "Python 3",
   "language": "python",
   "name": "python3"
  },
  "language_info": {
   "codemirror_mode": {
    "name": "ipython",
    "version": 3
   },
   "file_extension": ".py",
   "mimetype": "text/x-python",
   "name": "python",
   "nbconvert_exporter": "python",
   "pygments_lexer": "ipython3",
   "version": "3.8.5"
  }
 },
 "nbformat": 4,
 "nbformat_minor": 5
}
